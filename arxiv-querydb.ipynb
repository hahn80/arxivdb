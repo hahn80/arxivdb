{
 "cells": [
  {
   "cell_type": "code",
   "execution_count": 1,
   "metadata": {},
   "outputs": [],
   "source": [
    "import lancedb\n",
    "from sentence_transformers import SentenceTransformer"
   ]
  },
  {
   "cell_type": "code",
   "execution_count": 2,
   "metadata": {},
   "outputs": [],
   "source": [
    "db = lancedb.connect(\"arxivdb\")\n",
    "table = db.open_table(\"arxiv\")\n",
    "model = SentenceTransformer(\"all-MiniLM-L6-v2\")"
   ]
  },
  {
   "cell_type": "code",
   "execution_count": 11,
   "metadata": {},
   "outputs": [
    {
     "data": {
      "text/html": [
       "<div><style>\n",
       ".dataframe > thead > tr,\n",
       ".dataframe > tbody > tr {\n",
       "  text-align: right;\n",
       "  white-space: pre-wrap;\n",
       "}\n",
       "</style>\n",
       "<small>shape: (3, 6)</small><table border=\"1\" class=\"dataframe\"><thead><tr><th>key</th><th>titles</th><th>terms</th><th>abstracts</th><th>vector</th><th>_distance</th></tr><tr><td>i64</td><td>str</td><td>str</td><td>str</td><td>array[f32, 384]</td><td>f32</td></tr></thead><tbody><tr><td>27307</td><td>&quot;Fairness Asses…</td><td>&quot;[&#x27;stat.ML&#x27;, &#x27;c…</td><td>&quot;Artificial Int…</td><td>[-0.052605, -0.008746, … -0.056716]</td><td>0.646891</td></tr><tr><td>22849</td><td>&quot;Transfer Learn…</td><td>&quot;[&#x27;stat.ML&#x27;, &#x27;c…</td><td>&quot;We develop new…</td><td>[-0.027169, -0.09791, … -0.007415]</td><td>0.650928</td></tr><tr><td>5134</td><td>&quot;Evaluation of …</td><td>&quot;[&#x27;stat.ML&#x27;, &#x27;c…</td><td>&quot;Data mining me…</td><td>[-0.014609, -0.051206, … 0.084058]</td><td>0.657215</td></tr></tbody></table></div>"
      ],
      "text/plain": [
       "shape: (3, 6)\n",
       "┌───────┬──────────────────────┬──────────────┬──────────────────────┬─────────────────┬───────────┐\n",
       "│ key   ┆ titles               ┆ terms        ┆ abstracts            ┆ vector          ┆ _distance │\n",
       "│ ---   ┆ ---                  ┆ ---          ┆ ---                  ┆ ---             ┆ ---       │\n",
       "│ i64   ┆ str                  ┆ str          ┆ str                  ┆ array[f32, 384] ┆ f32       │\n",
       "╞═══════╪══════════════════════╪══════════════╪══════════════════════╪═════════════════╪═══════════╡\n",
       "│ 27307 ┆ Fairness Assessment  ┆ ['stat.ML',  ┆ Artificial           ┆ [-0.052605,     ┆ 0.646891  │\n",
       "│       ┆ for Artifici…        ┆ 'cs.LG',     ┆ Intelligence (AI) is ┆ -0.008746, …    ┆           │\n",
       "│       ┆                      ┆ 'stat.AP']   ┆ …                    ┆ -0.0567…        ┆           │\n",
       "│ 22849 ┆ Transfer Learning    ┆ ['stat.ML',  ┆ We develop new       ┆ [-0.027169,     ┆ 0.650928  │\n",
       "│       ┆ for Estimating…      ┆ 'cs.AI',     ┆ algorithms for es…   ┆ -0.09791, …     ┆           │\n",
       "│       ┆                      ┆ 'cs.LG', 's… ┆                      ┆ -0.00741…       ┆           │\n",
       "│ 5134  ┆ Evaluation of a      ┆ ['stat.ML',  ┆ Data mining methods  ┆ [-0.014609,     ┆ 0.657215  │\n",
       "│       ┆ Supervised Learn…    ┆ 'cs.LG',     ┆ have been wi…        ┆ -0.051206, …    ┆           │\n",
       "│       ┆                      ┆ 'stat.AP']   ┆                      ┆ 0.08405…        ┆           │\n",
       "└───────┴──────────────────────┴──────────────┴──────────────────────┴─────────────────┴───────────┘"
      ]
     },
     "execution_count": 11,
     "metadata": {},
     "output_type": "execute_result"
    }
   ],
   "source": [
    "query = \"Study about Marchine Learning for imbalanced data?\"\n",
    "vector = model.encode(query)\n",
    "table.search(vector).metric(\"cosine\").limit(3).to_polars()"
   ]
  },
  {
   "cell_type": "code",
   "execution_count": null,
   "metadata": {},
   "outputs": [],
   "source": []
  }
 ],
 "metadata": {
  "kernelspec": {
   "display_name": "Python 3",
   "language": "python",
   "name": "python3"
  },
  "language_info": {
   "codemirror_mode": {
    "name": "ipython",
    "version": 3
   },
   "file_extension": ".py",
   "mimetype": "text/x-python",
   "name": "python",
   "nbconvert_exporter": "python",
   "pygments_lexer": "ipython3",
   "version": "3.8.18"
  }
 },
 "nbformat": 4,
 "nbformat_minor": 2
}
