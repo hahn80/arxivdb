{
 "cells": [
  {
   "cell_type": "code",
   "execution_count": 4,
   "metadata": {},
   "outputs": [],
   "source": [
    "import lancedb\n",
    "from lancedb.embeddings import get_registry\n",
    "from lancedb.pydantic import Vector, LanceModel\n",
    "import polars as pl"
   ]
  },
  {
   "cell_type": "code",
   "execution_count": 5,
   "metadata": {},
   "outputs": [],
   "source": [
    "registry = get_registry()\n",
    "func = registry.get(\"sentence-transformers\").create(device=\"cuda\")"
   ]
  },
  {
   "cell_type": "code",
   "execution_count": 6,
   "metadata": {},
   "outputs": [],
   "source": [
    "class ArxivPapers(LanceModel):\n",
    "    key: int\n",
    "    titles: str\n",
    "    terms: str\n",
    "    # We'll embed this column using `func`\n",
    "    abstracts: str = func.SourceField()\n",
    "    # The vector and number of dimensions is provided by the embedding function automatically\n",
    "    vector: Vector(func.ndims()) = func.VectorField()"
   ]
  },
  {
   "cell_type": "code",
   "execution_count": 8,
   "metadata": {},
   "outputs": [],
   "source": [
    "db = lancedb.connect(\"arxivdb\")"
   ]
  },
  {
   "cell_type": "code",
   "execution_count": null,
   "metadata": {},
   "outputs": [],
   "source": [
    "table = db.create_table(\"arxiv\", schema=ArxivPapers, mode=\"overwrite\")"
   ]
  },
  {
   "cell_type": "code",
   "execution_count": 10,
   "metadata": {},
   "outputs": [
    {
     "data": {
      "text/plain": [
       "pyarrow.Table\n",
       "key: int64 not null\n",
       "titles: string not null\n",
       "terms: string not null\n",
       "abstracts: string not null\n",
       "vector: fixed_size_list<item: float>[384] not null\n",
       "  child 0, item: float\n",
       "----\n",
       "key: []\n",
       "titles: []\n",
       "terms: []\n",
       "abstracts: []\n",
       "vector: []"
      ]
     },
     "execution_count": 10,
     "metadata": {},
     "output_type": "execute_result"
    }
   ],
   "source": [
    "table.head()"
   ]
  },
  {
   "cell_type": "code",
   "execution_count": 11,
   "metadata": {},
   "outputs": [
    {
     "data": {
      "text/html": [
       "<div><style>\n",
       ".dataframe > thead > tr,\n",
       ".dataframe > tbody > tr {\n",
       "  text-align: right;\n",
       "  white-space: pre-wrap;\n",
       "}\n",
       "</style>\n",
       "<small>shape: (5, 3)</small><table border=\"1\" class=\"dataframe\"><thead><tr><th>terms</th><th>titles</th><th>abstracts</th></tr><tr><td>str</td><td>str</td><td>str</td></tr></thead><tbody><tr><td>&quot;[&#x27;cs.LG&#x27;]&quot;</td><td>&quot;Multi-Level At…</td><td>&quot;Graph neural n…</td></tr><tr><td>&quot;[&#x27;cs.LG&#x27;, &#x27;cs.…</td><td>&quot;Decision Fores…</td><td>&quot;Deep networks …</td></tr><tr><td>&quot;[&#x27;cs.LG&#x27;, &#x27;cs.…</td><td>&quot;Power up! Robu…</td><td>&quot;Graph convolut…</td></tr><tr><td>&quot;[&#x27;cs.LG&#x27;, &#x27;cs.…</td><td>&quot;Releasing Grap…</td><td>&quot;With the incre…</td></tr><tr><td>&quot;[&#x27;cs.LG&#x27;]&quot;</td><td>&quot;Recurrence-Awa…</td><td>&quot;Machine learni…</td></tr></tbody></table></div>"
      ],
      "text/plain": [
       "shape: (5, 3)\n",
       "┌───────────────────────────────┬─────────────────────────────────┬────────────────────────────────┐\n",
       "│ terms                         ┆ titles                          ┆ abstracts                      │\n",
       "│ ---                           ┆ ---                             ┆ ---                            │\n",
       "│ str                           ┆ str                             ┆ str                            │\n",
       "╞═══════════════════════════════╪═════════════════════════════════╪════════════════════════════════╡\n",
       "│ ['cs.LG']                     ┆ Multi-Level Attention Pooling   ┆ Graph neural networks (GNNs)   │\n",
       "│                               ┆ fo…                             ┆ hav…                           │\n",
       "│ ['cs.LG', 'cs.AI']            ┆ Decision Forests vs. Deep       ┆ Deep networks and decision     │\n",
       "│                               ┆ Networ…                         ┆ fores…                         │\n",
       "│ ['cs.LG', 'cs.CR', 'stat.ML'] ┆ Power up! Robust Graph          ┆ Graph convolutional networks   │\n",
       "│                               ┆ Convoluti…                      ┆ (GC…                           │\n",
       "│ ['cs.LG', 'cs.CR']            ┆ Releasing Graph Neural Networks ┆ With the increasing popularity │\n",
       "│                               ┆ …                               ┆ o…                             │\n",
       "│ ['cs.LG']                     ┆ Recurrence-Aware Long-Term      ┆ Machine learning solutions for │\n",
       "│                               ┆ Cogni…                          ┆ p…                             │\n",
       "└───────────────────────────────┴─────────────────────────────────┴────────────────────────────────┘"
      ]
     },
     "execution_count": 11,
     "metadata": {},
     "output_type": "execute_result"
    }
   ],
   "source": [
    "# https://www.kaggle.com/datasets/spsayakpaul/arxiv-paper-abstracts\n",
    "df = pl.read_csv(\"arxiv_abstracts.csv\")\n",
    "df.head()"
   ]
  },
  {
   "cell_type": "code",
   "execution_count": 12,
   "metadata": {},
   "outputs": [],
   "source": [
    "n = df.height\n",
    "df = df.with_columns([pl.Series(name=\"key\", values=range(n))])"
   ]
  },
  {
   "cell_type": "code",
   "execution_count": 13,
   "metadata": {},
   "outputs": [],
   "source": [
    "df = df.select([\"key\", \"abstracts\", \"titles\", \"terms\"])"
   ]
  },
  {
   "cell_type": "code",
   "execution_count": 14,
   "metadata": {},
   "outputs": [
    {
     "data": {
      "text/html": [
       "<div><style>\n",
       ".dataframe > thead > tr,\n",
       ".dataframe > tbody > tr {\n",
       "  text-align: right;\n",
       "  white-space: pre-wrap;\n",
       "}\n",
       "</style>\n",
       "<small>shape: (56_181, 4)</small><table border=\"1\" class=\"dataframe\"><thead><tr><th>key</th><th>abstracts</th><th>titles</th><th>terms</th></tr><tr><td>i64</td><td>str</td><td>str</td><td>str</td></tr></thead><tbody><tr><td>0</td><td>&quot;Graph neural n…</td><td>&quot;Multi-Level At…</td><td>&quot;[&#x27;cs.LG&#x27;]&quot;</td></tr><tr><td>1</td><td>&quot;Deep networks …</td><td>&quot;Decision Fores…</td><td>&quot;[&#x27;cs.LG&#x27;, &#x27;cs.…</td></tr><tr><td>2</td><td>&quot;Graph convolut…</td><td>&quot;Power up! Robu…</td><td>&quot;[&#x27;cs.LG&#x27;, &#x27;cs.…</td></tr><tr><td>3</td><td>&quot;With the incre…</td><td>&quot;Releasing Grap…</td><td>&quot;[&#x27;cs.LG&#x27;, &#x27;cs.…</td></tr><tr><td>4</td><td>&quot;Machine learni…</td><td>&quot;Recurrence-Awa…</td><td>&quot;[&#x27;cs.LG&#x27;]&quot;</td></tr><tr><td>&hellip;</td><td>&hellip;</td><td>&hellip;</td><td>&hellip;</td></tr><tr><td>56176</td><td>&quot;Despite the gr…</td><td>&quot;Mining Spatio-…</td><td>&quot;[&#x27;cs.CV&#x27;, &#x27;cs.…</td></tr><tr><td>56177</td><td>&quot;This paper pre…</td><td>&quot;Wav2Letter: an…</td><td>&quot;[&#x27;cs.LG&#x27;, &#x27;cs.…</td></tr><tr><td>56178</td><td>&quot;The popular Q-…</td><td>&quot;Deep Reinforce…</td><td>&quot;[&#x27;cs.LG&#x27;]&quot;</td></tr><tr><td>56179</td><td>&quot;Principal comp…</td><td>&quot;Generalized Lo…</td><td>&quot;[&#x27;stat.ML&#x27;, &#x27;c…</td></tr><tr><td>56180</td><td>&quot;SDYNA is a gen…</td><td>&quot;Chi-square Tes…</td><td>&quot;[&#x27;cs.LG&#x27;, &#x27;cs.…</td></tr></tbody></table></div>"
      ],
      "text/plain": [
       "shape: (56_181, 4)\n",
       "┌───────┬──────────────────────────────┬─────────────────────────────┬─────────────────────────────┐\n",
       "│ key   ┆ abstracts                    ┆ titles                      ┆ terms                       │\n",
       "│ ---   ┆ ---                          ┆ ---                         ┆ ---                         │\n",
       "│ i64   ┆ str                          ┆ str                         ┆ str                         │\n",
       "╞═══════╪══════════════════════════════╪═════════════════════════════╪═════════════════════════════╡\n",
       "│ 0     ┆ Graph neural networks (GNNs) ┆ Multi-Level Attention       ┆ ['cs.LG']                   │\n",
       "│       ┆ hav…                         ┆ Pooling fo…                 ┆                             │\n",
       "│ 1     ┆ Deep networks and decision   ┆ Decision Forests vs. Deep   ┆ ['cs.LG', 'cs.AI']          │\n",
       "│       ┆ fores…                       ┆ Networ…                     ┆                             │\n",
       "│ 2     ┆ Graph convolutional networks ┆ Power up! Robust Graph      ┆ ['cs.LG', 'cs.CR',          │\n",
       "│       ┆ (GC…                         ┆ Convoluti…                  ┆ 'stat.ML']                  │\n",
       "│ 3     ┆ With the increasing          ┆ Releasing Graph Neural      ┆ ['cs.LG', 'cs.CR']          │\n",
       "│       ┆ popularity o…                ┆ Networks …                  ┆                             │\n",
       "│ 4     ┆ Machine learning solutions   ┆ Recurrence-Aware Long-Term  ┆ ['cs.LG']                   │\n",
       "│       ┆ for p…                       ┆ Cogni…                      ┆                             │\n",
       "│ …     ┆ …                            ┆ …                           ┆ …                           │\n",
       "│ 56176 ┆ Despite the growing          ┆ Mining Spatio-temporal Data ┆ ['cs.CV', 'cs.IR']          │\n",
       "│       ┆ availability…                ┆ on I…                       ┆                             │\n",
       "│ 56177 ┆ This paper presents a simple ┆ Wav2Letter: an End-to-End   ┆ ['cs.LG', 'cs.AI', 'cs.CL', │\n",
       "│       ┆ end…                         ┆ ConvNe…                     ┆ 'I.2…                       │\n",
       "│ 56178 ┆ The popular Q-learning       ┆ Deep Reinforcement Learning ┆ ['cs.LG']                   │\n",
       "│       ┆ algorithm…                   ┆ with…                       ┆                             │\n",
       "│ 56179 ┆ Principal components         ┆ Generalized Low Rank Models ┆ ['stat.ML', 'cs.LG',        │\n",
       "│       ┆ analysis (P…                 ┆                             ┆ 'math.OC']                  │\n",
       "│ 56180 ┆ SDYNA is a general framework ┆ Chi-square Tests Driven     ┆ ['cs.LG', 'cs.AI',          │\n",
       "│       ┆ des…                         ┆ Method f…                   ┆ 'stat.ML']                  │\n",
       "└───────┴──────────────────────────────┴─────────────────────────────┴─────────────────────────────┘"
      ]
     },
     "execution_count": 14,
     "metadata": {},
     "output_type": "execute_result"
    }
   ],
   "source": [
    "df"
   ]
  },
  {
   "cell_type": "code",
   "execution_count": 15,
   "metadata": {},
   "outputs": [],
   "source": [
    "table.add(df.sample(1000))"
   ]
  },
  {
   "cell_type": "code",
   "execution_count": 20,
   "metadata": {},
   "outputs": [
    {
     "data": {
      "text/html": [
       "<div><style>\n",
       ".dataframe > thead > tr,\n",
       ".dataframe > tbody > tr {\n",
       "  text-align: right;\n",
       "  white-space: pre-wrap;\n",
       "}\n",
       "</style>\n",
       "<small>shape: (10, 5)</small><table border=\"1\" class=\"dataframe\"><thead><tr><th>key</th><th>titles</th><th>terms</th><th>abstracts</th><th>vector</th></tr><tr><td>i64</td><td>str</td><td>str</td><td>str</td><td>array[f32, 384]</td></tr></thead><tbody><tr><td>37051</td><td>&quot;History for Vi…</td><td>&quot;[&#x27;cs.CV&#x27;, &#x27;cs.…</td><td>&quot;Visual Dialog …</td><td>[0.010497, -0.048358, … 0.014043]</td></tr><tr><td>9924</td><td>&quot;Black-box Off-…</td><td>&quot;[&#x27;cs.LG&#x27;, &#x27;cs.…</td><td>&quot;Off-policy est…</td><td>[-0.028978, -0.062137, … 0.039674]</td></tr><tr><td>27965</td><td>&quot;AniGAN: Style-…</td><td>&quot;[&#x27;cs.CV&#x27;, &#x27;cs.…</td><td>&quot;In this paper,…</td><td>[-0.091088, -0.038203, … -0.01065]</td></tr><tr><td>22540</td><td>&quot;Relative Affer…</td><td>&quot;[&#x27;cs.CV&#x27;, &#x27;ees…</td><td>&quot;Abnormalities …</td><td>[-0.051458, -0.065525, … -0.027434]</td></tr><tr><td>29326</td><td>&quot;Generating Dif…</td><td>&quot;[&#x27;cs.CV&#x27;]&quot;</td><td>&quot;Diffusion magn…</td><td>[-0.0647, -0.112234, … -0.029517]</td></tr><tr><td>45616</td><td>&quot;Self-Supervise…</td><td>&quot;[&#x27;cs.CV&#x27;]&quot;</td><td>&quot;Self-supervise…</td><td>[-0.012768, -0.03064, … -0.040037]</td></tr><tr><td>45476</td><td>&quot;Deep Two-View …</td><td>&quot;[&#x27;cs.CV&#x27;]&quot;</td><td>&quot;Two-view struc…</td><td>[-0.052596, -0.028142, … -0.05199]</td></tr><tr><td>48038</td><td>&quot;Parameter Prio…</td><td>&quot;[&#x27;stat.ML&#x27;, &#x27;c…</td><td>&quot;We develop sim…</td><td>[-0.065217, -0.13041, … 0.031038]</td></tr><tr><td>25812</td><td>&quot;AdaBins: Depth…</td><td>&quot;[&#x27;cs.CV&#x27;]&quot;</td><td>&quot;We address the…</td><td>[-0.08025, -0.115382, … -0.054427]</td></tr><tr><td>52165</td><td>&quot;U-GAT: Multimo…</td><td>&quot;[&#x27;cs.CV&#x27;, &#x27;cs.…</td><td>&quot;During the fir…</td><td>[0.032779, -0.049483, … -0.003957]</td></tr></tbody></table></div>"
      ],
      "text/plain": [
       "shape: (10, 5)\n",
       "┌───────┬────────────────────────┬───────────────────────┬───────────────────────┬─────────────────┐\n",
       "│ key   ┆ titles                 ┆ terms                 ┆ abstracts             ┆ vector          │\n",
       "│ ---   ┆ ---                    ┆ ---                   ┆ ---                   ┆ ---             │\n",
       "│ i64   ┆ str                    ┆ str                   ┆ str                   ┆ array[f32, 384] │\n",
       "╞═══════╪════════════════════════╪═══════════════════════╪═══════════════════════╪═════════════════╡\n",
       "│ 37051 ┆ History for Visual     ┆ ['cs.CV', 'cs.AI',    ┆ Visual Dialog         ┆ [0.010497,      │\n",
       "│       ┆ Dialog: Do we…         ┆ 'cs.CL', 'cs.…        ┆ involves \"understa…   ┆ -0.048358, …    │\n",
       "│       ┆                        ┆                       ┆                       ┆ 0.014043…       │\n",
       "│ 9924  ┆ Black-box Off-policy   ┆ ['cs.LG', 'cs.AI',    ┆ Off-policy estimation ┆ [-0.028978,     │\n",
       "│       ┆ Estimation …           ┆ 'stat.ML']            ┆ for long-h…           ┆ -0.062137, …    │\n",
       "│       ┆                        ┆                       ┆                       ┆ 0.03967…        │\n",
       "│ 27965 ┆ AniGAN: Style-Guided   ┆ ['cs.CV', 'cs.AI']    ┆ In this paper, we     ┆ [-0.091088,     │\n",
       "│       ┆ Generative …           ┆                       ┆ propose a nove…       ┆ -0.038203, …    │\n",
       "│       ┆                        ┆                       ┆                       ┆ -0.0106…        │\n",
       "│ 22540 ┆ Relative Afferent      ┆ ['cs.CV', 'eess.IV',  ┆ Abnormalities in      ┆ [-0.051458,     │\n",
       "│       ┆ Pupillary Defe…        ┆ 'eess.SP', …          ┆ pupillary light…      ┆ -0.065525, …    │\n",
       "│       ┆                        ┆                       ┆                       ┆ -0.0274…        │\n",
       "│ 29326 ┆ Generating Diffusion   ┆ ['cs.CV']             ┆ Diffusion magnetic    ┆ [-0.0647,       │\n",
       "│       ┆ MRI scalar …           ┆                       ┆ resonance ima…        ┆ -0.112234, …    │\n",
       "│       ┆                        ┆                       ┆                       ┆ -0.029517…      │\n",
       "│ 45616 ┆ Self-Supervised        ┆ ['cs.CV']             ┆ Self-supervised       ┆ [-0.012768,     │\n",
       "│       ┆ Monocular Depth …      ┆                       ┆ monocular depth …     ┆ -0.03064, …     │\n",
       "│       ┆                        ┆                       ┆                       ┆ -0.04003…       │\n",
       "│ 45476 ┆ Deep Two-View          ┆ ['cs.CV']             ┆ Two-view              ┆ [-0.052596,     │\n",
       "│       ┆ Structure-from-Mot…    ┆                       ┆ structure-from-motion ┆ -0.028142, …    │\n",
       "│       ┆                        ┆                       ┆ (…                    ┆ -0.0519…        │\n",
       "│ 48038 ┆ Parameter Priors for   ┆ ['stat.ML', 'cs.LG',  ┆ We develop simple     ┆ [-0.065217,     │\n",
       "│       ┆ Directed Ac…           ┆ 'math.ST', …          ┆ methods for co…       ┆ -0.13041, …     │\n",
       "│       ┆                        ┆                       ┆                       ┆ 0.031038…       │\n",
       "│ 25812 ┆ AdaBins: Depth         ┆ ['cs.CV']             ┆ We address the        ┆ [-0.08025,      │\n",
       "│       ┆ Estimation using …     ┆                       ┆ problem of estima…    ┆ -0.115382, …    │\n",
       "│       ┆                        ┆                       ┆                       ┆ -0.05442…       │\n",
       "│ 52165 ┆ U-GAT: Multimodal      ┆ ['cs.CV', 'cs.LG',    ┆ During the first wave ┆ [0.032779,      │\n",
       "│       ┆ Graph Attentio…        ┆ 'eess.IV']            ┆ of COVID-1…           ┆ -0.049483, …    │\n",
       "│       ┆                        ┆                       ┆                       ┆ -0.00395…       │\n",
       "└───────┴────────────────────────┴───────────────────────┴───────────────────────┴─────────────────┘"
      ]
     },
     "execution_count": 20,
     "metadata": {},
     "output_type": "execute_result"
    }
   ],
   "source": [
    "table.search().to_polars()"
   ]
  }
 ],
 "metadata": {
  "kernelspec": {
   "display_name": "Python 3",
   "language": "python",
   "name": "python3"
  },
  "language_info": {
   "codemirror_mode": {
    "name": "ipython",
    "version": 3
   },
   "file_extension": ".py",
   "mimetype": "text/x-python",
   "name": "python",
   "nbconvert_exporter": "python",
   "pygments_lexer": "ipython3",
   "version": "3.8.18"
  }
 },
 "nbformat": 4,
 "nbformat_minor": 2
}
